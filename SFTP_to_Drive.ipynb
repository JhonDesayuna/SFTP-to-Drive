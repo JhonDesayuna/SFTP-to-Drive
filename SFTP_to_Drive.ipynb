{
  "nbformat": 4,
  "nbformat_minor": 0,
  "metadata": {
    "colab": {
      "provenance": [],
      "authorship_tag": "ABX9TyP/0nxzLj4bIJyx9dXjQPUI",
      "include_colab_link": true
    },
    "kernelspec": {
      "name": "python3",
      "display_name": "Python 3"
    },
    "language_info": {
      "name": "python"
    }
  },
  "cells": [
    {
      "cell_type": "markdown",
      "metadata": {
        "id": "view-in-github",
        "colab_type": "text"
      },
      "source": [
        "<a href=\"https://colab.research.google.com/github/JhonDesayuna/SFTP-to-Drive/blob/main/SFTP_to_Drive.ipynb\" target=\"_parent\"><img src=\"https://colab.research.google.com/assets/colab-badge.svg\" alt=\"Open In Colab\"/></a>"
      ]
    },
    {
      "cell_type": "code",
      "execution_count": 1,
      "metadata": {
        "colab": {
          "base_uri": "https://localhost:8080/"
        },
        "id": "9_JAo2TWXaxg",
        "outputId": "1c71e118-1c72-4271-fc8d-b4f4123f9a10"
      },
      "outputs": [
        {
          "output_type": "stream",
          "name": "stdout",
          "text": [
            "Mounted at /content/drive\n"
          ]
        }
      ],
      "source": [
        "from google.colab import drive\n",
        "drive.mount('/content/drive')"
      ]
    },
    {
      "cell_type": "code",
      "source": [
        "#@title **Create User**\n",
        "#@markdown <h1><center><b>Datos de tu VPS</center></b></h1></br>\n",
        "#@markdown Añade los datos de tu servidor\n",
        "\n",
        "\n",
        "# Instalar la biblioteca paramiko\n",
        "!pip install paramiko\n",
        "\n",
        "# Esperar unos segundos después de la instalación para asegurarse de que se complete.\n",
        "import time\n",
        "time.sleep(5)  # Espera 5 segundos para asegurar la instalación.\n",
        "\n",
        "# Ahora importa paramiko y otras bibliotecas necesarias.\n",
        "\n",
        "import paramiko\n",
        "import os\n",
        "\n",
        "# Función para conectar al servidor y transferir la carpeta completa a Google Drive\n",
        "def transfer_folder_to_drive():\n",
        "\n",
        "    # Configuración de conexión SFTP\n",
        "    hostname = \"\"  #@param {type:\"string\"}\n",
        "    port = \"22\"  #@param {type:\"string\"}\n",
        "    username = \"\"  #@param {type:\"string\"}\n",
        "    password = \"\"  #@param {type:\"string\"}\n",
        "\n",
        "    # Convertir el puerto a entero\n",
        "    port = int(port)\n",
        "\n",
        "    # Ejemplo de uso posterior con los parámetros capturados.\n",
        "    print(f\"Conectando a {hostname} en el puerto {port} con el usuario {username}.\")\n",
        "\n",
        "    #@markdown\n",
        "    # Directorios de origen y destino\n",
        "\n",
        "    #@markdown Directorio en el servidor SFTP\n",
        "    remote_folder_path = \"/home/ubuntu/\"  #@param {type:\"string\"}\n",
        "    #@markdown Directorio en Google Drive\n",
        "    #@markdown Archivo/\n",
        "    local_folder_path = \"/content/drive/\"  #@param {type:\"string\"}\n",
        "\n",
        "    try:\n",
        "        # Crear el cliente SSH y establecer la conexión\n",
        "        transport = paramiko.Transport((hostname, port))\n",
        "        transport.connect(username=username, password=password)\n",
        "\n",
        "        # Establecer la conexión SFTP\n",
        "        sftp = paramiko.SFTPClient.from_transport(transport)\n",
        "        print(\"Conexión SFTP establecida con éxito.\")\n",
        "\n",
        "        # Crear la carpeta de destino en Google Drive si no existe\n",
        "        if not os.path.exists(local_folder_path):\n",
        "            os.makedirs(local_folder_path)\n",
        "            print(f\"Carpeta creada en Google Drive: {local_folder_path}\")\n",
        "\n",
        "        # Función para transferir archivos de una carpeta de forma recursiva\n",
        "        def transfer_files(remote_path, local_path):\n",
        "            # Listar todos los elementos en la ruta remota\n",
        "            for item in sftp.listdir(remote_path):\n",
        "                remote_item_path = os.path.join(remote_path, item)\n",
        "                local_item_path = os.path.join(local_path, item)\n",
        "\n",
        "                # Verificar si es un directorio o un archivo\n",
        "                if sftp.stat(remote_item_path).st_mode & 0o040000:  # Si es un directorio\n",
        "                    if not os.path.exists(local_item_path):\n",
        "                        os.makedirs(local_item_path)\n",
        "                    transfer_files(remote_item_path, local_item_path)  # Llamada recursiva\n",
        "                else:  # Si es un archivo, descargarlo\n",
        "                    sftp.get(remote_item_path, local_item_path)\n",
        "                    print(f\"Archivo transferido: {local_item_path}\")\n",
        "\n",
        "        # Transferir la carpeta completa\n",
        "        transfer_files(remote_folder_path, local_folder_path)\n",
        "        print(\"Todos los archivos han sido tranferidos\")\n",
        "\n",
        "        # Cerrar la conexión SFTP\n",
        "        sftp.close()\n",
        "        transport.close()\n",
        "        print(\"Conexión SFTP cerrada.\")\n",
        "\n",
        "    except Exception as e:\n",
        "        print(f\"Error al conectar y transferir archivos: {e}\")\n",
        "\n",
        "# Llamar a la función para conectar y transferir la carpeta completa\n",
        "transfer_folder_to_drive()"
      ],
      "metadata": {
        "cellView": "form",
        "id": "QulibjeWYNJQ"
      },
      "execution_count": null,
      "outputs": []
    }
  ]
}