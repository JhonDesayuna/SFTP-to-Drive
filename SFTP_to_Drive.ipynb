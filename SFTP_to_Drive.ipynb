{
  "nbformat": 4,
  "nbformat_minor": 0,
  "metadata": {
    "colab": {
      "provenance": [],
      "authorship_tag": "ABX9TyNjysvhtHQwa4yo5Z5yWK+F",
      "include_colab_link": true
    },
    "kernelspec": {
      "name": "python3",
      "display_name": "Python 3"
    },
    "language_info": {
      "name": "python"
    }
  },
  "cells": [
    {
      "cell_type": "markdown",
      "metadata": {
        "id": "view-in-github",
        "colab_type": "text"
      },
      "source": [
        "<a href=\"https://colab.research.google.com/github/JhonDesayuna/SFTP-to-Drive/blob/main/SFTP_to_Drive.ipynb\" target=\"_parent\"><img src=\"https://colab.research.google.com/assets/colab-badge.svg\" alt=\"Open In Colab\"/></a>"
      ]
    },
    {
      "cell_type": "code",
      "execution_count": null,
      "metadata": {
        "colab": {
          "base_uri": "https://localhost:8080/"
        },
        "id": "9_JAo2TWXaxg",
        "outputId": "1c71e118-1c72-4271-fc8d-b4f4123f9a10"
      },
      "outputs": [
        {
          "output_type": "stream",
          "name": "stdout",
          "text": [
            "Mounted at /content/drive\n"
          ]
        }
      ],
      "source": [
        "from google.colab import drive\n",
        "drive.mount('/content/drive')"
      ]
    },
    {
      "cell_type": "code",
      "source": [
        "#@title **Create User**\n",
        "#@markdown <h1><center><b>Datos de tu VPS</center></b></h1></br>\n",
        "#@markdown Añade los datos de tu servidor\n",
        "\n",
        "# Instalar la biblioteca paramiko\n",
        "!pip install paramiko concurrent.futures\n",
        "\n",
        "# Esperar unos segundos después de la instalación para asegurar que se complete.\n",
        "import time\n",
        "time.sleep(5)  # Espera 5 segundos para asegurar la instalación.\n",
        "\n",
        "# Ahora importa paramiko y otras bibliotecas necesarias.\n",
        "import paramiko\n",
        "import os\n",
        "from concurrent.futures import ThreadPoolExecutor\n",
        "\n",
        "# Función para conectar al servidor y transferir la carpeta completa a Google Drive\n",
        "def transfer_folder_to_drive():\n",
        "    # Configuración de conexión SFTP\n",
        "    hostname = \"\"  #@param {type:\"string\"}\n",
        "    port = \"22\"  #@param {type:\"string\"}\n",
        "    username = \"\"  #@param {type:\"string\"}\n",
        "    password = \"\"  #@param {type:\"string\"}\n",
        "\n",
        "    # Convertir el puerto a entero\n",
        "    port = int(port)\n",
        "\n",
        "    # Ejemplo de uso posterior con los parámetros capturados.\n",
        "    print(f\"Conectando a {hostname} en el puerto {port} con el usuario {username}.\")\n",
        "\n",
        "    #@markdown\n",
        "    # Directorios de origen y destino\n",
        "\n",
        "    #@markdown Directorio en el servidor SFTP\n",
        "    remote_folder_path = \"/home/ubuntu/\"  #@param {type:\"string\"}\n",
        "    #@markdown Directorio en Google Drive\n",
        "    local_folder_path = \"/content/drive/\"  #@param {type:\"string\"}\n",
        "\n",
        "    try:\n",
        "        # Crear el cliente SSH y establecer la conexión\n",
        "        transport = paramiko.Transport((hostname, port))\n",
        "        transport.connect(username=username, password=password)\n",
        "\n",
        "        # Establecer la conexión SFTP\n",
        "        sftp = paramiko.SFTPClient.from_transport(transport)\n",
        "        print(\"Conexión SFTP establecida con éxito.\")\n",
        "\n",
        "        # Verificar si la carpeta de destino en Google Drive existe, y crearla si no existe\n",
        "        if not os.path.exists(local_folder_path):\n",
        "            os.makedirs(local_folder_path)\n",
        "            print(f\"Carpeta creada en Google Drive: {local_folder_path}\")\n",
        "        else:\n",
        "            print(f\"La carpeta ya existe en Google Drive: {local_folder_path}\")\n",
        "\n",
        "        # Función para contar todos los archivos en la carpeta remota\n",
        "        def count_files(remote_path):\n",
        "            total_files = 0\n",
        "            for item in sftp.listdir(remote_path):\n",
        "                remote_item_path = os.path.join(remote_path, item)\n",
        "                if sftp.stat(remote_item_path).st_mode & 0o040000:  # Si es un directorio\n",
        "                    total_files += count_files(remote_item_path)\n",
        "                else:  # Si es un archivo\n",
        "                    total_files += 1\n",
        "            return total_files\n",
        "\n",
        "        # Función para transferir un archivo\n",
        "        def transfer_file(remote_item_path, local_item_path, current_count, total_files):\n",
        "            # Verificar si el archivo ya existe\n",
        "            if os.path.exists(local_item_path):\n",
        "                # Verificar si el tamaño del archivo es el mismo\n",
        "                remote_file_size = sftp.stat(remote_item_path).st_size\n",
        "                local_file_size = os.path.getsize(local_item_path)\n",
        "\n",
        "                if remote_file_size == local_file_size:\n",
        "                    print(f\"Archivo ya existe y es idéntico: {local_item_path}, saltando...\")\n",
        "                    current_count += 1  # Incrementar el contador también cuando se salta el archivo\n",
        "                    print(f\"Progreso: {current_count}/{total_files} archivos procesados\")\n",
        "                    return current_count  # Si el archivo es idéntico, no hacer nada\n",
        "                else:\n",
        "                    print(f\"Archivo existente con tamaño diferente, reemplazando: {local_item_path}\")\n",
        "\n",
        "            # Transferir archivo\n",
        "            sftp.get(remote_item_path, local_item_path)\n",
        "            current_count += 1\n",
        "            print(f\"Transferido archivo {current_count}/{total_files}: {local_item_path}\")\n",
        "            return current_count\n",
        "\n",
        "        # Función para transferir archivos de una carpeta de forma recursiva con verificación\n",
        "        def transfer_files(remote_path, local_path, executor, current_count, total_files):\n",
        "            for item in sftp.listdir(remote_path):\n",
        "                remote_item_path = os.path.join(remote_path, item)\n",
        "                local_item_path = os.path.join(local_path, item)\n",
        "\n",
        "                # Verificar si es un directorio o un archivo\n",
        "                if sftp.stat(remote_item_path).st_mode & 0o040000:  # Si es un directorio\n",
        "                    if not os.path.exists(local_item_path):\n",
        "                        os.makedirs(local_item_path)\n",
        "                    current_count = transfer_files(remote_item_path, local_item_path, executor, current_count, total_files)\n",
        "                else:  # Si es un archivo, transferir en paralelo\n",
        "                    future = executor.submit(transfer_file, remote_item_path, local_item_path, current_count, total_files)\n",
        "                    current_count = future.result()  # Obtener el nuevo valor del contador después de cada transferencia\n",
        "            return current_count\n",
        "\n",
        "        # Contar el total de archivos a transferir\n",
        "        total_files = count_files(remote_folder_path)\n",
        "        print(f\"Total de archivos a transferir: {total_files}\")\n",
        "\n",
        "        # Ejecutar la transferencia en paralelo\n",
        "        with ThreadPoolExecutor() as executor:\n",
        "            current_count = 0\n",
        "            current_count = transfer_files(remote_folder_path, local_folder_path, executor, current_count, total_files)\n",
        "\n",
        "        print(f\"Proceso completado: {current_count}/{total_files} archivos procesados.\")\n",
        "\n",
        "        # Cerrar la conexión SFTP\n",
        "        sftp.close()\n",
        "        transport.close()\n",
        "        print(\"Conexión SFTP cerrada.\")\n",
        "\n",
        "    except Exception as e:\n",
        "        print(f\"Error al conectar y transferir archivos: {e}\")\n",
        "\n",
        "# Llamar a la función para conectar y transferir la carpeta completa\n",
        "transfer_folder_to_drive()\n"
      ],
      "metadata": {
        "id": "QulibjeWYNJQ"
      },
      "execution_count": null,
      "outputs": []
    }
  ]
}